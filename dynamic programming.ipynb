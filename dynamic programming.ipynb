{
 "cells": [
  {
   "cell_type": "markdown",
   "metadata": {},
   "source": [
    "# Knapsack problem"
   ]
  },
  {
   "cell_type": "code",
   "execution_count": 1,
   "metadata": {},
   "outputs": [],
   "source": [
    "def knapSack(W, wt, val, n):\n",
    "   # initial conditions\n",
    "   if n == 0 or W == 0 :\n",
    "        return 0\n",
    "   # If weight is higher than capacity then it is not included\n",
    "   if (wt[n-1] > W):\n",
    "        return knapSack(W, wt, val, n-1)\n",
    "   # return either nth item being included or not\n",
    "   else:\n",
    "        return max(val[n-1] + knapSack(W-wt[n-1], wt, val, n-1),\n",
    "         knapSack(W, wt, val, n-1))\n",
    "    "
   ]
  },
  {
   "cell_type": "code",
   "execution_count": 125,
   "metadata": {},
   "outputs": [],
   "source": [
    "def optimal_strategy_of_game(arr,n):\n",
    "    t=[[0 for x in range(n)] for x in range(n)]\n",
    "    \n",
    "    for gap in range(n):\n",
    "        for j in range(gap,n):\n",
    "            i=j-gap\n",
    "            x=0\n",
    "            if (i+2<=j):\n",
    "                x=t[i+2][j]\n",
    "            y=0\n",
    "            if (i+1<=j-1):\n",
    "                y=t[i+1][j-1]\n",
    "            z=0\n",
    "            if i<=(j-2):\n",
    "                z=t[i][j-2]\n",
    "            t[i][j]=max(arr[i]+min(x,y), arr[j]+min(z,y))\n",
    "    return t[0][n-1]"
   ]
  },
  {
   "cell_type": "code",
   "execution_count": null,
   "metadata": {},
   "outputs": [],
   "source": [
    "optimal_strategy_of_game([])"
   ]
  },
  {
   "cell_type": "code",
   "execution_count": 2,
   "metadata": {},
   "outputs": [],
   "source": [
    "def knapSack(W, wt, val, n):\n",
    "    K = [[0 for x in range(W + 1)] for x in range(n + 1)]\n",
    "   #Table in bottom up manner\n",
    "    for i in range(n + 1):\n",
    "        for w in range(W + 1):\n",
    "            if i == 0 or w == 0:\n",
    "                K[i][w] = 0\n",
    "            elif wt[i-1] <= w:\n",
    "                K[i][w] = max(val[i-1] + K[i-1][w-wt[i-1]], K[i-1][w])\n",
    "            \n",
    "            else:\n",
    "                K[i][w] = K[i-1][w]\n",
    "    print(K)\n",
    "    return K[n][W]"
   ]
  },
  {
   "cell_type": "code",
   "execution_count": 3,
   "metadata": {},
   "outputs": [
    {
     "name": "stdout",
     "output_type": "stream",
     "text": [
      "[[0, 0, 0, 0, 0, 0, 0, 0, 0, 0, 0, 0], [0, 1, 1, 1, 1, 1, 1, 1, 1, 1, 1, 1], [0, 1, 1, 4, 5, 5, 5, 5, 5, 5, 5, 5], [0, 1, 1, 4, 5, 6, 6, 9, 10, 10, 10, 10], [0, 1, 1, 4, 5, 7, 8, 9, 11, 12, 13, 13]]\n"
     ]
    },
    {
     "data": {
      "text/plain": [
       "13"
      ]
     },
     "execution_count": 3,
     "metadata": {},
     "output_type": "execute_result"
    }
   ],
   "source": [
    "knapSack(11,[1,3,4,5],[1,4,5,7],4)"
   ]
  },
  {
   "cell_type": "code",
   "execution_count": 4,
   "metadata": {},
   "outputs": [],
   "source": [
    "def subsetsum(arr,S):\n",
    "    t=[[True for x in range(S+1)] for x in range(len(arr)+1)]\n",
    "    for i in  range(len(arr)+1):\n",
    "        for j in range(S+1):\n",
    "            if i==0 :\n",
    "                t[i][j]=False\n",
    "            if j==0:\n",
    "                t[i][j]=True\n",
    "            elif arr[i-1]<=j:\n",
    "                t[i][j]=t[i-1][j-arr[i-1]] or t[i-1][j]\n",
    "            else:\n",
    "                t[i][j]=t[i-1][j]\n",
    "    \n",
    "    \n",
    "    return t[len(arr)][S]\n",
    "\n",
    "                    "
   ]
  },
  {
   "cell_type": "code",
   "execution_count": 5,
   "metadata": {
    "scrolled": true
   },
   "outputs": [
    {
     "data": {
      "text/plain": [
       "True"
      ]
     },
     "execution_count": 5,
     "metadata": {},
     "output_type": "execute_result"
    }
   ],
   "source": [
    "subsetsum([2,3,7,8,10],11)"
   ]
  },
  {
   "cell_type": "code",
   "execution_count": 253,
   "metadata": {},
   "outputs": [],
   "source": [
    "def equalsumpartition(arr):\n",
    "    if sum(arr)%2!=0:\n",
    "        return False\n",
    "    S=int(sum(arr)/2)\n",
    "    t=[[True for x in range(S+1)] for x in range(len(arr)+1)]\n",
    "    for i in range(len(arr)+1):\n",
    "        for j in range(S+1):\n",
    "            if (i==0):\n",
    "                t[i][j]=False\n",
    "            if (j==0):\n",
    "                t[i][j]=True\n",
    "            elif arr[i-1]<=j:\n",
    "                t[i][j]=t[i-1][j-arr[i-1]] or t[i-1][j]\n",
    "            else:\n",
    "                t[i][j]=t[i-1][j]\n",
    "    return t[len(arr)][S]\n",
    "    "
   ]
  },
  {
   "cell_type": "code",
   "execution_count": 254,
   "metadata": {},
   "outputs": [
    {
     "data": {
      "text/plain": [
       "True"
      ]
     },
     "execution_count": 254,
     "metadata": {},
     "output_type": "execute_result"
    }
   ],
   "source": [
    "equalsumpartition([478 ,757, 314, 471 ,729, 100, 459, 618])"
   ]
  },
  {
   "cell_type": "code",
   "execution_count": 8,
   "metadata": {},
   "outputs": [
    {
     "data": {
      "text/plain": [
       "False"
      ]
     },
     "execution_count": 8,
     "metadata": {},
     "output_type": "execute_result"
    }
   ],
   "source": [
    "equalsumpartition([2,5,11,5])"
   ]
  },
  {
   "cell_type": "code",
   "execution_count": 9,
   "metadata": {},
   "outputs": [],
   "source": [
    "def countofsubsetwithagivensum(arr,S):\n",
    "    count=0\n",
    "    t=[[0 for x in range(S+1)] for x in range(len(arr)+1)]\n",
    "    for i in  range(len(arr)+1):\n",
    "        for j in range(S+1):\n",
    "            if (i==0):\n",
    "                t[i][j]=0\n",
    "            if j==0:\n",
    "                t[i][j]=1\n",
    "            \n",
    "            elif arr[i-1]<=j:\n",
    "                t[i][j]=t[i-1][j-arr[i-1]] + t[i-1][j]\n",
    "            else:\n",
    "                t[i][j]=t[i-1][j]\n",
    "            \n",
    "    return t[len(arr)][S]"
   ]
  },
  {
   "cell_type": "code",
   "execution_count": 10,
   "metadata": {},
   "outputs": [
    {
     "data": {
      "text/plain": [
       "3"
      ]
     },
     "execution_count": 10,
     "metadata": {},
     "output_type": "execute_result"
    }
   ],
   "source": [
    "countofsubsetwithagivensum([2,3,5,6,8,10],10)"
   ]
  },
  {
   "cell_type": "code",
   "execution_count": 434,
   "metadata": {},
   "outputs": [],
   "source": [
    "def minimumsubsetsumdiff(arr):\n",
    "    total=sum(arr)\n",
    "    t=[[True for x in range(total+1)] for x in range(len(arr)+1)]\n",
    "    for i in range(len(arr)+1):\n",
    "        for j in range(total+1):\n",
    "            if (i==0):\n",
    "                t[i][j]=False\n",
    "                \n",
    "            if j==0:\n",
    "                t[i][j]=True\n",
    "            \n",
    "            elif arr[i-1]<=j:\n",
    "                t[i][j]=t[i-1][j-arr[i-1]] or t[i-1][j]\n",
    "                \n",
    "            else:\n",
    "                t[i][j]=t[i-1][j]\n",
    "\n",
    "    z=[ index for  index,value in enumerate(t[-1][:]) if value]\n",
    "    x=[]\n",
    "    for  i in range(int(total//2)+1):\n",
    "        x.append(abs(total-2*i))\n",
    "        \n",
    "    return min(x)\n",
    "        \n",
    "                \n",
    "                "
   ]
  },
  {
   "cell_type": "code",
   "execution_count": 433,
   "metadata": {},
   "outputs": [
    {
     "data": {
      "text/plain": [
       "1"
      ]
     },
     "execution_count": 433,
     "metadata": {},
     "output_type": "execute_result"
    }
   ],
   "source": [
    "minimumsubsetsumdiff([1,6,11,5])"
   ]
  },
  {
   "cell_type": "code",
   "execution_count": 13,
   "metadata": {},
   "outputs": [],
   "source": [
    "def gasstation(gas,cost):\n",
    "    if sum(gas)-sum(cost)<0:# input is less than the requirement hence not possible\n",
    "        return -1\n",
    "    gas_tank=0  # to look the status of gas\n",
    "    start_index=0 # to check possible index for start \n",
    "    for i in range(len(gas)):\n",
    "        gas_tank+=gas[i]-cost[i] # gas net addition\n",
    "        if gas_tank<0: # if they not reach to next station\n",
    "            start_index=i+1 # we will start our jounrey from i+1 index freshly.\n",
    "            gas_tank=0  # at starting point our gas remains empty\n",
    "    return start_index "
   ]
  },
  {
   "cell_type": "code",
   "execution_count": 14,
   "metadata": {},
   "outputs": [],
   "source": [
    "#suppose total is even,two possibility-@ both partiton odd. @ both partition is even.\n",
    "#hence difference btw then always even.\n",
    "\n",
    "#suppose total is odd, then one of the partiton will be odd and other will be even.\n",
    "#odd+even =odd. hence difference btw then will be odd.\n",
    "\n",
    "#hence S will be  always even.\n",
    "def countthenumberofsubsetwithgivendifference(arr,diff):\n",
    "    total=sum(arr)\n",
    "    S=(total+diff)//2\n",
    "    #Now we have to find the subset sum count of sum==S.\n",
    "    t=[[0 for x in range(S+1)] for x in range(len(arr)+1)]\n",
    "    for i in range(len(arr)+1):\n",
    "        for j in range(S+1):\n",
    "            if i==0:\n",
    "                t[i][j]=0\n",
    "            if j==0:\n",
    "                t[i][j]=1\n",
    "                \n",
    "            elif arr[i-1]<=j:\n",
    "                t[i][j]=t[i-1][j-arr[i-1]]+t[i-1][j]\n",
    "            else:\n",
    "                t[i][j]=t[i-1][j]\n",
    "    return t[-1][S]"
   ]
  },
  {
   "cell_type": "code",
   "execution_count": 15,
   "metadata": {},
   "outputs": [
    {
     "data": {
      "text/plain": [
       "3"
      ]
     },
     "execution_count": 15,
     "metadata": {},
     "output_type": "execute_result"
    }
   ],
   "source": [
    "countthenumberofsubsetwithgivendifference([1,1,2,3],1)"
   ]
  },
  {
   "cell_type": "markdown",
   "metadata": {},
   "source": [
    "# Unbounded knapsack"
   ]
  },
  {
   "cell_type": "code",
   "execution_count": 16,
   "metadata": {},
   "outputs": [],
   "source": [
    "#max numbr of coin patterm to obtain the summ\n",
    "def coinchange(coins,S):\n",
    "    t=[[0 for x in range(S+1)] for x in range(len(coins)+1)]\n",
    "    for i in range(len(coins)+1):\n",
    "        for j in range(S+1):\n",
    "            if i==0:\n",
    "                t[i][j]=0\n",
    "            if j==0:\n",
    "                t[i][j]=1\n",
    "                \n",
    "            elif  coins[i-1]<=j:\n",
    "                t[i][j]=(t[i][j-coins[i-1]]+ t[i-1][j])\n",
    "            else:\n",
    "                t[i][j]=t[i-1][j]\n",
    "             \n",
    "    return t[len(coins)-1][-1]"
   ]
  },
  {
   "cell_type": "code",
   "execution_count": 255,
   "metadata": {},
   "outputs": [
    {
     "data": {
      "text/plain": [
       "7"
      ]
     },
     "execution_count": 255,
     "metadata": {},
     "output_type": "execute_result"
    }
   ],
   "source": [
    "coinchange([1,2,3,4,8,5],5)"
   ]
  },
  {
   "cell_type": "code",
   "execution_count": 256,
   "metadata": {},
   "outputs": [],
   "source": [
    "\n",
    "# Python 3 program to  \n",
    "# maximize the number \n",
    "# of segments of length  \n",
    "# p, q and r \n",
    "  \n",
    "# Function that returns  \n",
    "# the maximum number \n",
    "# of segments possible \n",
    "def findMaximum( l, p, q, r): \n",
    "  \n",
    "    # Array to store the cut  \n",
    "    # at each length \n",
    "    # All values with -1 \n",
    "    dp = [-1]*(l + 1)  \n",
    "  \n",
    "    # if length of rod is 0 then  \n",
    "    # total cuts will be 0 \n",
    "    # so, initialize the dp[0] with 0 \n",
    "    dp[0] = 0\n",
    "  \n",
    "    for i in range( l+1) : \n",
    "  \n",
    "        # if certain length is not  \n",
    "        # possible \n",
    "        if (dp[i] == -1): \n",
    "            continue\n",
    "  \n",
    "        # if a segment of p is possible \n",
    "        if (i + p <= l): \n",
    "            dp[i + p] = (max(dp[i + p],  \n",
    "                        dp[i] + 1)) \n",
    "  \n",
    "        # if a segment of q is possible \n",
    "        if (i + q <= l): \n",
    "            dp[i + q] = (max(dp[i + q],  \n",
    "                        dp[i] + 1)) \n",
    "  \n",
    "        # if a segment of r is possible \n",
    "        if (i + r <= l): \n",
    "            dp[i + r] = (max(dp[i + r], \n",
    "                        dp[i] + 1)) \n",
    "  \n",
    "    # return value corresponding  \n",
    "    # to length l \n",
    "    return dp[l] "
   ]
  },
  {
   "cell_type": "code",
   "execution_count": null,
   "metadata": {},
   "outputs": [],
   "source": []
  },
  {
   "cell_type": "code",
   "execution_count": null,
   "metadata": {},
   "outputs": [],
   "source": []
  },
  {
   "cell_type": "code",
   "execution_count": null,
   "metadata": {},
   "outputs": [],
   "source": []
  },
  {
   "cell_type": "code",
   "execution_count": 18,
   "metadata": {},
   "outputs": [],
   "source": [
    "def count(S, m, n):\n",
    "    #base case\n",
    "    table = [[0 for x in range(m)] for x in range(n+1)]\n",
    "   # for n=0\n",
    "    for i in range(m):\n",
    "        table[0][i] = 1\n",
    "   # rest values are filled in bottom up manner\n",
    "    for i in range(1, n+1):\n",
    "        for j in range(m):\n",
    "         # solutions including S[j]\n",
    "            x = table[i - S[j]][j] if i-S[j] >= 0 else 0\n",
    "         # solutions excluding S[j]\n",
    "            y = table[i][j-1] if j >= 1 else 0\n",
    "         # total\n",
    "            table[i][j] = x + y\n",
    "    return table[n][m-1]"
   ]
  },
  {
   "cell_type": "code",
   "execution_count": 19,
   "metadata": {},
   "outputs": [
    {
     "data": {
      "text/plain": [
       "7"
      ]
     },
     "execution_count": 19,
     "metadata": {},
     "output_type": "execute_result"
    }
   ],
   "source": [
    "count([1,2,5,4,3,8],6,5)"
   ]
  },
  {
   "cell_type": "code",
   "execution_count": 20,
   "metadata": {},
   "outputs": [],
   "source": [
    "#leetcode\n",
    "def findcontentchildren(g,s):\n",
    "    count=0\n",
    "    g.sort()# kids greed\n",
    "    s.sort()# size of cookies\n",
    "    kid_i=0 #to iterate through g which is related to kids\n",
    "    cookie_i=0 # to iterate through s which is related to size of cookies.\n",
    "    while kid_i<len(g) and cookie_i<len(s):\n",
    "        if s[cookie_i]>=g[kid_i]:\n",
    "            count+=1# one content achieved\n",
    "            kid_i+=1# one kid is satisfy and we will go for next kid.\n",
    "        #as size is less than greed factor , we will try to check with other cookie size\n",
    "        #hence \n",
    "        cookie_i+=1\n",
    "    return count"
   ]
  },
  {
   "cell_type": "code",
   "execution_count": 21,
   "metadata": {},
   "outputs": [
    {
     "data": {
      "text/plain": [
       "1"
      ]
     },
     "execution_count": 21,
     "metadata": {},
     "output_type": "execute_result"
    }
   ],
   "source": [
    "findcontentchildren([1,2,3],[1,1])"
   ]
  },
  {
   "cell_type": "code",
   "execution_count": 22,
   "metadata": {},
   "outputs": [],
   "source": [
    "#min number of coins required to make amount possible.\n",
    "def coinchange2( coins, amount):\n",
    "        t=[[0 for x in range(amount+1)] for  x in range(len(coins)+1)]\n",
    "        #Base condition initialization\n",
    "        for j in range(amount+1):\n",
    "            t[0][j]=1000\n",
    "            \n",
    "        for i in range(1,len(coins)+1):\n",
    "            t[i][0]=0\n",
    "            \n",
    "            \n",
    "        # considering other rows and columns for initialization all row initialization\n",
    "        for i in range(1,len(coins)+1):\n",
    "            for j in range(1,amount+1):\n",
    "                if (j%coins[i-1])==0:\n",
    "                    t[i][j]=j/coins[i-1]\n",
    "                else:\n",
    "                    t[i][j]=1000\n",
    "        # choice diagram implemenattion:\n",
    "        for i in range(1,len(coins)+1):\n",
    "            for j in range(1,amount+1):\n",
    "                if coins[i-1]<=j:\n",
    "                    t[i][j]=min(t[i][j-coins[i-1]]+1,t[i-1][j])# unbounded knapsack remeber +1 when item is selected \n",
    "                else:\n",
    "                    t[i][j]=t[i-1][j]\n",
    "        return t[len(coins)][amount] # smallest possible no of coins for amount"
   ]
  },
  {
   "cell_type": "code",
   "execution_count": 23,
   "metadata": {},
   "outputs": [
    {
     "data": {
      "text/plain": [
       "3"
      ]
     },
     "execution_count": 23,
     "metadata": {},
     "output_type": "execute_result"
    }
   ],
   "source": [
    "coinchange2([1,2,5],11)"
   ]
  },
  {
   "cell_type": "markdown",
   "metadata": {},
   "source": [
    "# Largest Common Sequences"
   ]
  },
  {
   "cell_type": "markdown",
   "metadata": {},
   "source": [
    "# subsequence are not neccessary to be contionus"
   ]
  },
  {
   "cell_type": "markdown",
   "metadata": {},
   "source": [
    "# but substrings are need to be contionus/\n"
   ]
  },
  {
   "cell_type": "code",
   "execution_count": 35,
   "metadata": {},
   "outputs": [],
   "source": [
    "#using recursive approach\n",
    "def lcs_recursive(x,y,m,n):\n",
    "    if (m==0 or n==0):\n",
    "        return 0\n",
    "    if x[m-1]==y[n-1]: # comparing last element is true then add 1 and return Lcs with reduce -1 length of x and y.\n",
    "        return 1+lcs_recursive(x,y,m-1,n-1)\n",
    "    else: # here two choices are taken to solve the all options \n",
    "        # when last element is removed and not removed \n",
    "        return max(lcs_recursive(x,y,m-1,n),lcs_recursive(x,y,m,n-1))"
   ]
  },
  {
   "cell_type": "code",
   "execution_count": 36,
   "metadata": {},
   "outputs": [
    {
     "data": {
      "text/plain": [
       "4"
      ]
     },
     "execution_count": 36,
     "metadata": {},
     "output_type": "execute_result"
    }
   ],
   "source": [
    "lcs_recursive('abcdgh','abedfga',len('abcdgh'),len('abedfga'))"
   ]
  },
  {
   "cell_type": "code",
   "execution_count": 37,
   "metadata": {},
   "outputs": [],
   "source": [
    "#using top dowm apporach\n",
    "# here we consider the simple step\n",
    "# not considering the last element:\n",
    "# we are starting from head of the strings\n",
    "#"
   ]
  },
  {
   "cell_type": "code",
   "execution_count": 38,
   "metadata": {},
   "outputs": [],
   "source": [
    "def lcs_topdowm(x,y,m,n):\n",
    "    t=[[0 for x in range(n+1)] for x in range(m+1)] # table of rows m+1 and col==n+1.\n",
    "    for i in range(m+1):\n",
    "        for j in range(n+1):\n",
    "            if i==0 or j==0:\n",
    "                t[i][j]=0\n",
    "            elif x[i-1]==y[j-1]:\n",
    "                t[i][j]=1+t[i-1][j-1]\n",
    "            else:\n",
    "                t[i][j]=max(t[i-1][j],t[i][j-1])\n",
    "                \n",
    "    return t[m][n]"
   ]
  },
  {
   "cell_type": "code",
   "execution_count": 39,
   "metadata": {},
   "outputs": [
    {
     "data": {
      "text/plain": [
       "4"
      ]
     },
     "execution_count": 39,
     "metadata": {},
     "output_type": "execute_result"
    }
   ],
   "source": [
    "lcs_topdowm('abcdgh','abedfga',len('abcdgh'),len('abedfga'))"
   ]
  },
  {
   "cell_type": "code",
   "execution_count": 68,
   "metadata": {},
   "outputs": [],
   "source": [
    "def longestcommonsubstring(x,y,m,n):\n",
    "    t=[[0 for x in range(n+1)] for x in range(m+1)]\n",
    "    \n",
    "    for i in range(m+1):\n",
    "        for j in range(n+1):\n",
    "            if (i==0 or j==0):\n",
    "                t[i][j]=0\n",
    "            elif x[i-1]==y[j-1]:\n",
    "                t[i][j]=t[i-1][j-1]+1\n",
    "            else:\n",
    "                t[i][j]=0\n",
    "\n",
    "    x=[max(t[i]) for i in range(m+1)]\n",
    "    print(t)\n",
    "    return max(x)"
   ]
  },
  {
   "cell_type": "code",
   "execution_count": 69,
   "metadata": {},
   "outputs": [
    {
     "name": "stdout",
     "output_type": "stream",
     "text": [
      "[[0, 0, 0, 0, 0, 0], [0, 1, 0, 0, 0, 0], [0, 0, 2, 0, 0, 0], [0, 0, 0, 0, 1, 0], [0, 0, 0, 0, 0, 0], [0, 0, 0, 0, 0, 1]]\n"
     ]
    },
    {
     "data": {
      "text/plain": [
       "2"
      ]
     },
     "execution_count": 69,
     "metadata": {},
     "output_type": "execute_result"
    }
   ],
   "source": [
    "longestcommonsubstring('abcde','abfce',5,5)"
   ]
  },
  {
   "cell_type": "code",
   "execution_count": 339,
   "metadata": {},
   "outputs": [],
   "source": [
    "def longest_increasing_subsequences(arr):\n",
    "    t=[0]*len(arr)\n",
    "    t[0]=1\n",
    "    for i in range(len(arr)):\n",
    "        Max=0\n",
    "        for j in range(i):\n",
    "            if arr[i]>arr[j] and t[j]>Max:\n",
    "                    Max=t[j]\n",
    "        t[i]=Max+1\n",
    "    return max(t)"
   ]
  },
  {
   "cell_type": "code",
   "execution_count": 340,
   "metadata": {},
   "outputs": [
    {
     "data": {
      "text/plain": [
       "3"
      ]
     },
     "execution_count": 340,
     "metadata": {},
     "output_type": "execute_result"
    }
   ],
   "source": [
    "longest_increasing_subsequences([5,8,7,1,9])"
   ]
  },
  {
   "cell_type": "code",
   "execution_count": 346,
   "metadata": {},
   "outputs": [],
   "source": [
    "def maximum_sum_increasing_subsequences(arr):\n",
    "    #stroing table\n",
    "    t=[0]*len(arr)\n",
    "    #here no initialization \n",
    "    #going over full length\n",
    "    for i in range(len(arr)):\n",
    "        Max=None # initialization with None to exclude 3,9 from example.\n",
    "        for j in range(i):\n",
    "            #same condition i greater than j, then only a element can be added.\n",
    "            \n",
    "            if arr[i]>arr[j]: # 3 ,9 will not enter to this loop hence they have Max==None.\n",
    "                #if it is None then , assign t[j]\n",
    "                if Max==None:\n",
    "                    Max=t[j]\n",
    "                else:\n",
    "                    if t[j]>Max:# when t[j]>Max then only we will update Max.\n",
    "                        Max=t[j]\n",
    "        if Max==None:#hence we assign the array value to it\n",
    "            #updating t[i]\n",
    "            t[i]=arr[i]\n",
    "        else: #hence assigning Max value to it.\n",
    "            # Max between (0 to j==i-1) then arr[i] can be added to the Max. to \n",
    "            # form longest increasing subsequences.\n",
    "            #updating t[i]\n",
    "            t[i]=Max+arr[i]\n",
    "    print(t)\n",
    "    return max(t)"
   ]
  },
  {
   "cell_type": "code",
   "execution_count": 347,
   "metadata": {},
   "outputs": [
    {
     "name": "stdout",
     "output_type": "stream",
     "text": [
      "[1, 102, 3, 6, 106, 10, 15]\n"
     ]
    },
    {
     "data": {
      "text/plain": [
       "106"
      ]
     },
     "execution_count": 347,
     "metadata": {},
     "output_type": "execute_result"
    }
   ],
   "source": [
    "maximum_sum_increasing_subsequences([1,101,2,3,100,4,5])"
   ]
  },
  {
   "cell_type": "code",
   "execution_count": 362,
   "metadata": {},
   "outputs": [],
   "source": [
    "#box stack ---variation of longest increasing subsequences\n",
    "def box_stocking(height,weight,length):\n",
    "    x=[]\n",
    "    # 3 rotation of i,j,k and considering depth>width. \n",
    "    for i,j,k in zip(height,weight,length):\n",
    "        # 1st rotation\n",
    "        \n",
    "        height,depth, width=i,max(j,k),min(j,k)\n",
    "        x.append([height,depth,width])\n",
    "        \n",
    "        # 2nd rotation\n",
    "        \n",
    "        height,depth,width=j,max(i,k),min(i,k)\n",
    "        x.append([height,depth,width])\n",
    "        \n",
    "        # 3rd rotation\n",
    "        \n",
    "        height,depth,width=k,max(i,j),min(i,j)\n",
    "        x.append([height,depth,width])\n",
    "        \n",
    "    #sorting based on the base area in decreasing order\n",
    "    \n",
    "    x.sort(key=lambda x: x[1]*x[2],reverse=True)\n",
    "    \n",
    "    #maximum stack height\n",
    "    #LIS implementation started\n",
    "    \n",
    "    msh=[0]*(len(x))\n",
    "    \n",
    "    \n",
    "    for i in range(len(x)):\n",
    "        msh[i]=x[i][0]\n",
    "        \n",
    "    \n",
    "    for i in range(1,len(x)):\n",
    "        \n",
    "        for j in range(i):\n",
    "            if x[i][1]<x[j][1] and x[i][2]<x[j][2]:\n",
    "                # suppose hum j me hai (j--->(0 to i-1)) . or i me height msh[i] hai ,but j me ho height hai or arr[i]\n",
    "                # ka sum msh[i] se bada hoga toh msh[i] ko update kar denge\n",
    "                # actually hum bas max value nikalna chah rhe hai.\n",
    "                if msh[i]<msh[j]+x[i][0]:\n",
    "                    msh[i]=msh[j]+x[i][0]\n",
    "    print(msh)\n",
    "                    \n",
    "    return max(msh)\n",
    "    \n",
    "    \n",
    "    \n",
    "    "
   ]
  },
  {
   "cell_type": "code",
   "execution_count": 361,
   "metadata": {},
   "outputs": [
    {
     "name": "stdout",
     "output_type": "stream",
     "text": [
      "[10, 12, 42, 46, 50, 48, 53, 51, 56, 57, 58, 60]\n"
     ]
    },
    {
     "data": {
      "text/plain": [
       "60"
      ]
     },
     "execution_count": 361,
     "metadata": {},
     "output_type": "execute_result"
    }
   ],
   "source": [
    "box_stocking([4,1,4,10],[6,2,5,12],[7,3,6,32])"
   ]
  },
  {
   "cell_type": "code",
   "execution_count": 94,
   "metadata": {},
   "outputs": [],
   "source": [
    "def printsubsequencesoflcs(x,y,m,n):\n",
    "    t=[[0 for x in range(n+1)] for x in range(m+1)]\n",
    "    for i in range(m+1):\n",
    "        for j in range(n+1):\n",
    "            if (i==0 or j==0):\n",
    "                t[i][j]=0\n",
    "            elif x[i-1]==y[j-1]:\n",
    "                t[i][j]=t[i-1][j-1]+1\n",
    "            else:\n",
    "                t[i][j]=max(t[i-1][j],t[i][j-1])\n",
    "                \n",
    "                \n",
    "    #initialize with last right bottom table\n",
    "    i=m\n",
    "    j=n\n",
    "    s=''\n",
    "    while i>0 and j>0: #until it reaaches to left top.\n",
    "        if x[i-1]==y[j-1]: # if elemnst are eql then add.\n",
    "            s+=y[j-1]\n",
    "            i-=1 # row shift\n",
    "            j-=1 #col shift\n",
    "        else:\n",
    "            if t[i-1][j]>t[i][j-1]:# row element is greater than roe shitt\n",
    "                i-=1 # row shift\n",
    "            else:# here col element is greateer hence col shift\n",
    "                j-=1 # col shift\n",
    "    return s[::-1] #reverse the string"
   ]
  },
  {
   "cell_type": "code",
   "execution_count": 95,
   "metadata": {},
   "outputs": [
    {
     "data": {
      "text/plain": [
       "'abcf'"
      ]
     },
     "execution_count": 95,
     "metadata": {},
     "output_type": "execute_result"
    }
   ],
   "source": [
    "printsubsequencesoflcs('acbcf','abcdaf',5,6)"
   ]
  },
  {
   "cell_type": "code",
   "execution_count": 97,
   "metadata": {},
   "outputs": [],
   "source": [
    "def shortestcommonsubsequence(x,y,m,n):\n",
    "    t=[[0 for x in range(n+1)] for x in range(m+1)]\n",
    "    for i in range(m+1):\n",
    "        for j in range(n+1):\n",
    "            if i==0 or j==0:\n",
    "                t[i][j]=0\n",
    "                \n",
    "            elif x[i-1]==y[j-1]:\n",
    "                t[i][j]=t[i-1][j-1]+1\n",
    "            else:\n",
    "                t[i][j]=max(t[i][j-1],t[i-1][j])\n",
    "    return (m+n-t[m][n])\n",
    "    "
   ]
  },
  {
   "cell_type": "code",
   "execution_count": 98,
   "metadata": {},
   "outputs": [
    {
     "data": {
      "text/plain": [
       "5"
      ]
     },
     "execution_count": 98,
     "metadata": {},
     "output_type": "execute_result"
    }
   ],
   "source": [
    "shortestcommonsubsequence('geek','eke',4,3)"
   ]
  },
  {
   "cell_type": "code",
   "execution_count": 99,
   "metadata": {},
   "outputs": [
    {
     "data": {
      "text/plain": [
       "9"
      ]
     },
     "execution_count": 99,
     "metadata": {},
     "output_type": "execute_result"
    }
   ],
   "source": [
    "shortestcommonsubsequence('aggtab','gxtxayb',6,7)"
   ]
  },
  {
   "cell_type": "code",
   "execution_count": 272,
   "metadata": {},
   "outputs": [],
   "source": [
    "# when only insertion and deletion is allowed to convert x --into---> y.\n",
    "def minimum_no_of_insertion_and_deletion(x,y,m,n):\n",
    "    t=[[0 for x in range(n+1)] for x in range(m+1)]\n",
    "    for i in range(m+1):\n",
    "        for j in range(n+1):\n",
    "            if i==0 or j==0:\n",
    "                t[i][j]=0\n",
    "            elif x[i-1]==y[j-1]:\n",
    "                t[i][j]=t[i-1][j-1]+1\n",
    "            else:\n",
    "                t[i][j]=max(t[i-1][j],t[i][j-1])\n",
    "    x={}\n",
    "    x['insertion']=m-t[m][n]\n",
    "    x['deletion']=n-t[m][n]\n",
    "    return x"
   ]
  },
  {
   "cell_type": "code",
   "execution_count": 273,
   "metadata": {},
   "outputs": [
    {
     "data": {
      "text/plain": [
       "{'insertion': 2, 'deletion': 1}"
      ]
     },
     "execution_count": 273,
     "metadata": {},
     "output_type": "execute_result"
    }
   ],
   "source": [
    "minimum_no_of_insertion_and_deletion('heap','pea',4,3)"
   ]
  },
  {
   "cell_type": "code",
   "execution_count": 288,
   "metadata": {},
   "outputs": [],
   "source": [
    "# when insertion ,deletion and replace is allowed to convert x----into---> y.\n",
    "def minimum_no_of_deletion_insertion_replace(x,y,m,n):\n",
    "    t=[[0 for x in range(n+1)] for x in range(m+1)]\n",
    "    for i in range(m+1):\n",
    "        for j in range(n+1):\n",
    "            if i==0:\n",
    "                t[i][j]=j\n",
    "            elif j==0:            #{ye change hai yaha eliff use hua hai} \n",
    "                t[i][j]=i\n",
    "            elif x[i-1]==y[j-1]:\n",
    "                #no deletion, no insertion, no replace\n",
    "                t[i][j]=t[i-1][j-1]  #{ye cahnege hai   yaha 1+ nahi hai}\n",
    "            else:\n",
    "                t[i][j]=1+min(t[i-1][j], #remove      # {yaha +1 hai or 3 operattion hai}\n",
    "                              t[i][j-1], #insert\n",
    "                              t[i-1][j-1]) #replace\n",
    "    return t[m][n]\n",
    "                "
   ]
  },
  {
   "cell_type": "code",
   "execution_count": 289,
   "metadata": {},
   "outputs": [
    {
     "data": {
      "text/plain": [
       "3"
      ]
     },
     "execution_count": 289,
     "metadata": {},
     "output_type": "execute_result"
    }
   ],
   "source": [
    "minimum_no_of_deletion_insertion_replace('sunday','saturday',6,8)"
   ]
  },
  {
   "cell_type": "code",
   "execution_count": 287,
   "metadata": {},
   "outputs": [
    {
     "data": {
      "text/plain": [
       "3"
      ]
     },
     "execution_count": 287,
     "metadata": {},
     "output_type": "execute_result"
    }
   ],
   "source": [
    "minimum_no_of_deletion_insertion_replace('sunday','saturday',6,8)"
   ]
  },
  {
   "cell_type": "code",
   "execution_count": 106,
   "metadata": {},
   "outputs": [],
   "source": [
    "def largestpalindromicsubsequence(x,m):\n",
    "    y=x[::-1]\n",
    "    t=[[0 for x in range(m+1)] for x in range(m+1)]\n",
    "    for i in range(m+1):\n",
    "        for j in range(m+1):\n",
    "            if i==0 or j==0:\n",
    "                t[i][j]=0\n",
    "            elif x[i-1]==y[j-1]:\n",
    "                t[i][j]=1+t[i-1][j-1]\n",
    "            else:\n",
    "                t[i][j]=max(t[i-1][j],t[i][j-1])\n",
    "    return t[m][m]            \n",
    "            \n",
    "            \n",
    "    "
   ]
  },
  {
   "cell_type": "code",
   "execution_count": 107,
   "metadata": {},
   "outputs": [
    {
     "data": {
      "text/plain": [
       "5"
      ]
     },
     "execution_count": 107,
     "metadata": {},
     "output_type": "execute_result"
    }
   ],
   "source": [
    "largestpalindromicsubsequence('agbcba',6)"
   ]
  },
  {
   "cell_type": "code",
   "execution_count": 250,
   "metadata": {},
   "outputs": [],
   "source": [
    "def min_no_of_deletion_in_string_to_make_a_palindrome(x,m):\n",
    "    y=x[::-1]\n",
    "    t=[[0 for x in range(m+1) ] for x in range(m+1)]\n",
    "    for i in range(m+1):\n",
    "        for j in range(m+1):\n",
    "            if i==0 or j==0:\n",
    "                t[i][j]=0\n",
    "            elif x[i-1]==y[j-1]:\n",
    "                t[i][j]=1+t[i-1][j-1]\n",
    "            else:\n",
    "                t[i][j]=max(t[i-1][j],t[i][j-1])\n",
    "        \n",
    "        \n",
    "    return m-t[m][m]"
   ]
  },
  {
   "cell_type": "code",
   "execution_count": 251,
   "metadata": {},
   "outputs": [
    {
     "data": {
      "text/plain": [
       "3"
      ]
     },
     "execution_count": 251,
     "metadata": {},
     "output_type": "execute_result"
    }
   ],
   "source": [
    "min_no_of_deletion_in_string_to_make_a_palindrome('abcd',4)"
   ]
  },
  {
   "cell_type": "code",
   "execution_count": 168,
   "metadata": {},
   "outputs": [],
   "source": [
    "def print_shortest_common_supersequence(x,y,m,n):\n",
    "    #creating a table to store lcs value.\n",
    "    t=[[0 for x in range(n+1)] for  x in range(m+1)]\n",
    "    for i in range(m+1):\n",
    "        for j in range(n+1):\n",
    "            #initialization of row 0 and row 1\n",
    "            if i==0 or j==0:\n",
    "                t[i][j]=0\n",
    "            elif x[i-1]==y[j-1]:\n",
    "            # equal,then 1+diagonal elements \n",
    "                t[i][j]=1+t[i-1][j-1]\n",
    "            else:\n",
    "            #selecting the max among neighbour\n",
    "                t[i][j]=max(t[i-1][j],t[i][j-1])\n",
    "\n",
    "                \n",
    "    # completed the table for lcs.\n",
    "    #now approaching to print the SCS.\n",
    "    i=m\n",
    "    j=n\n",
    "    s=''\n",
    "    while i>0 and j>0:\n",
    "        if x[i-1]==y[j-1]:\n",
    "        #insert the common elemnets once in string  for SCS.\n",
    "            s+=x[i-1]\n",
    "            i-=1\n",
    "            j-=1\n",
    "        \n",
    "        else:\n",
    "            #Now the element is not equal then we have two options.\n",
    "            \n",
    "            if t[i-1][j]>t[i][j-1]:\n",
    "            #option-1\n",
    "            #which one is greater,we definetely move toward that elements in future.\n",
    "            #but before moving we have to store the current element present in other direction to string\n",
    "                s+=x[i-1]\n",
    "            #we move to max value direction\n",
    "                i-=1\n",
    "\n",
    "            else:\n",
    "            #option-2 \n",
    "            #which one is greater , we definetrly movw towaed that elements if future.\n",
    "            #but before moving we have to store the current elemet present in other direction\n",
    "                s+=y[j-1]\n",
    "            #we move to max value direction.\n",
    "                j-=1\n",
    "    #suppose i!=0 and j==0, then scs between x=x[:i] and empty string y=''\n",
    "    while i>0:\n",
    "        s+=x[i-1]\n",
    "        i-=1\n",
    "    #suppose i==0 and j!=0 then scs between x=' ' and y=y[:j] \n",
    "    while j>0:\n",
    "        s+=y[j-1]\n",
    "        j-=1\n",
    "    #reverse the string\n",
    "    return s[::-1]            \n",
    "    "
   ]
  },
  {
   "cell_type": "code",
   "execution_count": 169,
   "metadata": {},
   "outputs": [
    {
     "data": {
      "text/plain": [
       "'acbcdaf'"
      ]
     },
     "execution_count": 169,
     "metadata": {},
     "output_type": "execute_result"
    }
   ],
   "source": [
    "print_shortest_common_supersequence('acbcf','abcdaf',5,6)"
   ]
  },
  {
   "cell_type": "code",
   "execution_count": 170,
   "metadata": {},
   "outputs": [
    {
     "data": {
      "text/plain": [
       "'gehekllo'"
      ]
     },
     "execution_count": 170,
     "metadata": {},
     "output_type": "execute_result"
    }
   ],
   "source": [
    "print_shortest_common_supersequence('geek','hello',4,5)"
   ]
  },
  {
   "cell_type": "code",
   "execution_count": 173,
   "metadata": {},
   "outputs": [],
   "source": [
    "def longest_repetitive_Subsequence(x,m):\n",
    "    y=x\n",
    "    n=m\n",
    "    t=[[0 for x in range(n+1)] for x in range(m+1)]\n",
    "    for i in range(m+1):\n",
    "        for j in range(n+1):\n",
    "            if i==0 or j==0:\n",
    "                t[i][j]=0\n",
    "            elif (x[i-1]==y[j-1] and i!=j): \n",
    "                t[i][j]=t[i-1][j-1]+1\n",
    "            else:\n",
    "                t[i][j]=max(t[i-1][j],t[i][j-1])\n",
    "    return t[m][n]\n",
    "    "
   ]
  },
  {
   "cell_type": "code",
   "execution_count": 174,
   "metadata": {},
   "outputs": [
    {
     "data": {
      "text/plain": [
       "3"
      ]
     },
     "execution_count": 174,
     "metadata": {},
     "output_type": "execute_result"
    }
   ],
   "source": [
    "longest_repetitive_Subsequence('aabebcdd',8)"
   ]
  },
  {
   "cell_type": "code",
   "execution_count": 179,
   "metadata": {},
   "outputs": [],
   "source": [
    "# is 'x'  is a subsequnece of 'y'??????\n",
    "def sequence_pattern_matching(x,y,m,n):\n",
    "    t=[[0 for x in range(n+1) ] for x in range(m+1)]\n",
    "    for i in range(m+1):\n",
    "        for j in range(n+1):\n",
    "            if i==0 or j==0:\n",
    "                t[i][j]=0\n",
    "            elif x[i-1]==y[j-1]:\n",
    "                t[i][j]=t[i-1][j-1]+1\n",
    "            else:\n",
    "                t[i][j]=max(t[i-1][j],t[i][j-1])\n",
    "    if t[m][n]==len(x):\n",
    "        return True\n",
    "    return False\n",
    "        "
   ]
  },
  {
   "cell_type": "code",
   "execution_count": 180,
   "metadata": {},
   "outputs": [
    {
     "data": {
      "text/plain": [
       "True"
      ]
     },
     "execution_count": 180,
     "metadata": {},
     "output_type": "execute_result"
    }
   ],
   "source": [
    "sequence_pattern_matching('axy','adxcpy',3,6)"
   ]
  },
  {
   "cell_type": "code",
   "execution_count": 181,
   "metadata": {},
   "outputs": [],
   "source": [
    "def min_no_of_insertion_in_a_string_to_make_it_a_palindrome(x,m):\n",
    "    y=x[::-1]\n",
    "    n=m\n",
    "    t=[[0 for x in range(n+1)] for  x in range(m+1)]\n",
    "    for i in range(m+1):\n",
    "        for j in range(n+1):\n",
    "            if i==0 or j==0:\n",
    "                t[i][j]=0\n",
    "            elif x[i-1]==y[j-1]:\n",
    "                t[i][j]=t[i-1][j-1]+1\n",
    "            else:\n",
    "                t[i][j]=max(t[i][j-1],t[i-1][j])\n",
    "    return m-t[m][n]"
   ]
  },
  {
   "cell_type": "code",
   "execution_count": 182,
   "metadata": {},
   "outputs": [
    {
     "data": {
      "text/plain": [
       "2"
      ]
     },
     "execution_count": 182,
     "metadata": {},
     "output_type": "execute_result"
    }
   ],
   "source": [
    "min_no_of_insertion_in_a_string_to_make_it_a_palindrome('aebcbda',6)"
   ]
  },
  {
   "cell_type": "code",
   "execution_count": 430,
   "metadata": {},
   "outputs": [],
   "source": [
    "def longest_palindromic_substring(x):\n",
    "    # x  is a string\n",
    "    w=[]\n",
    "    for i in range(len(x)):\n",
    "        for j in range(i+1,len(x)+1):\n",
    "            if x[i:j]==x[i:j][::-1]:\n",
    "                w.append(x[i:j])\n",
    "    w.sort(key=lambda x: len(x),reverse=True)\n",
    "\n",
    "    print(w[0])\n",
    "                "
   ]
  },
  {
   "cell_type": "code",
   "execution_count": 431,
   "metadata": {},
   "outputs": [
    {
     "name": "stdout",
     "output_type": "stream",
     "text": [
      "aabbaa\n"
     ]
    }
   ],
   "source": [
    "longest_palindromic_substring('aaaabbaa')"
   ]
  },
  {
   "cell_type": "code",
   "execution_count": 432,
   "metadata": {},
   "outputs": [],
   "source": [
    "# implementation of dp for count of palindromic substring\n",
    "def count_of_palindromic_substring(x):\n",
    "    t=[[0 for _ in range(len(x))] for _ in range(len(x))]\n",
    "    count=0\n",
    "    #diagonal elements are always palindrome hence 1\n",
    "    for i in range(len(x)):\n",
    "        t[i][i] = 1\n",
    "        count+=1\n",
    "        \n",
    "    # handling the 2nd diagnal with 2 elements (start-end==1)\n",
    "    for i in range(len(x)):\n",
    "        for j in range(len(x)):\n",
    "            if j-i==1 and x[i]==x[j]:\n",
    "                t[i][j]=1\n",
    "                count+=1\n",
    "            \n",
    "        \n",
    "\n",
    "    # when start-end>1:\n",
    "    \n",
    "    # defining gap\n",
    "    for gap in range(2,len(x)):\n",
    "        for i in range(len(x)-gap):\n",
    "            j=i+gap     # important step\n",
    "            if x[i] == x[j] and t[i+1][j-1]: # here t[i+1][j-1] denoting the element just present in diagonally in lower direction\n",
    "                # it represent that other than extreme end whether the interal string is palndrome or not\n",
    "                # if palindrome then t[i+1][j-1]==1 else t[i+1][j-1]==0\n",
    "                \n",
    "                t[i][j] = 1\n",
    "                count+=1\n",
    "\n",
    "    return count\n",
    "                "
   ]
  },
  {
   "cell_type": "code",
   "execution_count": 429,
   "metadata": {},
   "outputs": [
    {
     "data": {
      "text/plain": [
       "9"
      ]
     },
     "execution_count": 429,
     "metadata": {},
     "output_type": "execute_result"
    }
   ],
   "source": [
    "count_of_palindromic_substring('abccbc')"
   ]
  },
  {
   "cell_type": "code",
   "execution_count": 391,
   "metadata": {},
   "outputs": [],
   "source": [
    "def sam_and_substring(s):\n",
    "    n=len(s)\n",
    "    sumofdigit=[]\n",
    "    #inserting first element as sum.\n",
    "    sumofdigit.append(int(s[0]))\n",
    "    for i in range(1,n):\n",
    "        num=int(s[i])\n",
    "        sumofdigit.append((i+1)*num+(10)*(sumofdigit[i-1]))\n",
    "    return sum(sumofdigit)"
   ]
  },
  {
   "cell_type": "code",
   "execution_count": 196,
   "metadata": {},
   "outputs": [
    {
     "data": {
      "text/plain": [
       "491"
      ]
     },
     "execution_count": 196,
     "metadata": {},
     "output_type": "execute_result"
    }
   ],
   "source": [
    "sam_and_substring('421')"
   ]
  },
  {
   "cell_type": "code",
   "execution_count": 203,
   "metadata": {},
   "outputs": [],
   "source": [
    "def efficientstudy(wt,val,W):\n",
    "    t=[[0 for x in range(W+1)] for x in range(len(wt)+1)]\n",
    "    for i in range(len(wt)+1):\n",
    "        for j in range(W+1):\n",
    "            if i==0 or j==0:\n",
    "                t[i][j]=0\n",
    "            elif wt[i-1]<=j:\n",
    "                t[i][j]=max(val[i-1]+t[i-1][j-wt[i-1]],t[i-1][j])\n",
    "            else:\n",
    "                t[i][j]=t[i-1][j]\n",
    "    return t[-1][-1]\n",
    "                "
   ]
  },
  {
   "cell_type": "code",
   "execution_count": 204,
   "metadata": {},
   "outputs": [
    {
     "data": {
      "text/plain": [
       "10"
      ]
     },
     "execution_count": 204,
     "metadata": {},
     "output_type": "execute_result"
    }
   ],
   "source": [
    "efficientstudy([4,4,6,8],[2,4,4,5],15)"
   ]
  },
  {
   "cell_type": "code",
   "execution_count": 205,
   "metadata": {},
   "outputs": [
    {
     "data": {
      "text/plain": [
       "10"
      ]
     },
     "execution_count": 205,
     "metadata": {},
     "output_type": "execute_result"
    }
   ],
   "source": [
    "efficientstudy([2,4,4,6],[1,4,6,3],8)"
   ]
  },
  {
   "cell_type": "code",
   "execution_count": 208,
   "metadata": {},
   "outputs": [],
   "source": [
    "def restock(itemcount,target):\n",
    "    s=0\n",
    "    i=0\n",
    "    while s<target and i<len(itemcount):\n",
    "        s+=itemcount[i]\n",
    "        i+=1\n",
    "    return max(target-s,s-target)\n",
    "    "
   ]
  },
  {
   "cell_type": "code",
   "execution_count": 212,
   "metadata": {},
   "outputs": [
    {
     "data": {
      "text/plain": [
       "2"
      ]
     },
     "execution_count": 212,
     "metadata": {},
     "output_type": "execute_result"
    }
   ],
   "source": [
    "restock([1,2,3,2,1],4)"
   ]
  },
  {
   "cell_type": "code",
   "execution_count": 238,
   "metadata": {},
   "outputs": [],
   "source": [
    "def  longest_k_interspace_substring(s,k):\n",
    "    x=[]\n",
    "    for i in s:\n",
    "        x.append(ord(i)-96)\n",
    "    print(x)\n",
    "    c=[0]*(len(x)-1)\n",
    "    for i in range(0,len(x)-1):\n",
    "        c[i]=abs(x[i]-x[i+1])\n",
    "    count='' \n",
    "    for i in range(len(c)):\n",
    "        if c[i]<=k:\n",
    "            count+='1'\n",
    "        else:\n",
    "            count+='$'\n",
    "    return count\n",
    "            \n",
    "            \n",
    "    \n",
    "    \n",
    "        \n",
    "        "
   ]
  },
  {
   "cell_type": "code",
   "execution_count": 239,
   "metadata": {},
   "outputs": [
    {
     "name": "stdout",
     "output_type": "stream",
     "text": [
      "[23, 5, 4, 4, 9, 14, 7]\n"
     ]
    },
    {
     "data": {
      "text/plain": [
       "'$1111$'"
      ]
     },
     "execution_count": 239,
     "metadata": {},
     "output_type": "execute_result"
    }
   ],
   "source": [
    "longest_k_interspace_substring('wedding',5)"
   ]
  },
  {
   "cell_type": "markdown",
   "metadata": {},
   "source": [
    "# MATRIX CHAIN MULTIPLICATION"
   ]
  },
  {
   "cell_type": "code",
   "execution_count": 440,
   "metadata": {},
   "outputs": [],
   "source": [
    "# MCM--recursive\n",
    "def mcm_recursive(arr,i,j):\n",
    "    if (i>=j):\n",
    "        return 0\n",
    "    Min=float('inf')\n",
    "    for k in range(i,j):\n",
    "        temp_ans=mcm_recursive(arr,i,k)+mcm_recursive(arr,k+1,j)+arr[i-1]*arr[k]*arr[j]\n",
    "        if temp_ans<Min:\n",
    "            Min=temp_ans\n",
    "            \n",
    "    return Min\n",
    "            \n",
    "        \n"
   ]
  },
  {
   "cell_type": "code",
   "execution_count": 441,
   "metadata": {},
   "outputs": [
    {
     "data": {
      "text/plain": [
       "26000"
      ]
     },
     "execution_count": 441,
     "metadata": {},
     "output_type": "execute_result"
    }
   ],
   "source": [
    "mcm_recursive([40,20,30,10,30],i=1,j=4)"
   ]
  },
  {
   "cell_type": "code",
   "execution_count": 449,
   "metadata": {},
   "outputs": [],
   "source": [
    "#mcm_--recursive+table\n",
    "arr=[40,20,30,10,30]\n",
    "t=[[-1 for x in  range(len(arr)+1)] for  x in range(len(arr)+1)]\n",
    "def mcm_bottom_up(arr,i,j):\n",
    "    \n",
    "    if i>=j:\n",
    "        return 0\n",
    "    if t[i][j]!=-1:\n",
    "        return t[i][j]\n",
    "    Min=float('inf')\n",
    "    for k in range(i,j):\n",
    "        temp_ans=mcm_bottom_up(arr,i,k)+mcm_bottom_up(arr,k+1,j)+arr[i-1]*arr[k]*arr[j]\n",
    "        if temp_ans<Min:\n",
    "            Min=temp_ans\n",
    "    t[i][j]=Min\n",
    "\n",
    "    return t[i][j]\n",
    "    "
   ]
  },
  {
   "cell_type": "code",
   "execution_count": 450,
   "metadata": {},
   "outputs": [
    {
     "data": {
      "text/plain": [
       "26000"
      ]
     },
     "execution_count": 450,
     "metadata": {},
     "output_type": "execute_result"
    }
   ],
   "source": [
    "mcm_bottom_up(arr,1,4)"
   ]
  },
  {
   "cell_type": "code",
   "execution_count": 453,
   "metadata": {},
   "outputs": [],
   "source": [
    "# palindromic partitioning----Recursive\n",
    "# step-1 i=0, j=len(arr)-1\n",
    "# step-2 base condition\n",
    "# step-3 k varition\n",
    "# func of temp_ans\n",
    "def palindromic_partitioning(s,i,j):\n",
    "    if i>=j:\n",
    "        return 0\n",
    "    if ispalindrome(s,i,j):\n",
    "        return 0\n",
    "    Min=float('inf')\n",
    "    for k in range(i,j):\n",
    "        temp_ans=1+palindromic_partitioning(s,i,k)+palindromic_partitioning(s,k+1,j)\n",
    "        if temp_ans<Min:\n",
    "            Min=temp_ans\n",
    "    return Min\n",
    "\n",
    "def ispalindrome(s,i,j):\n",
    "    if i==j:\n",
    "        return True\n",
    "    if i>j:\n",
    "        return False\n",
    "    while i<j:\n",
    "        if (s[i]!=s[j]):\n",
    "            return False\n",
    "        i+=1\n",
    "        j-=1\n",
    "  \n",
    "    return True\n",
    "        \n",
    "    \n",
    "    "
   ]
  },
  {
   "cell_type": "code",
   "execution_count": 454,
   "metadata": {},
   "outputs": [
    {
     "data": {
      "text/plain": [
       "2"
      ]
     },
     "execution_count": 454,
     "metadata": {},
     "output_type": "execute_result"
    }
   ],
   "source": [
    "palindromic_partitioning('nitik',0,4)"
   ]
  },
  {
   "cell_type": "code",
   "execution_count": 455,
   "metadata": {},
   "outputs": [
    {
     "data": {
      "text/plain": [
       "0"
      ]
     },
     "execution_count": 455,
     "metadata": {},
     "output_type": "execute_result"
    }
   ],
   "source": [
    "palindromic_partitioning('nitin',0,4)"
   ]
  },
  {
   "cell_type": "code",
   "execution_count": 460,
   "metadata": {},
   "outputs": [],
   "source": [
    "# palindromic partitioning----Recursive +table\n",
    "#create table\n",
    "# step-1 i=0, j=len(arr)-1\n",
    "# step-2 base condition\n",
    "# step-3 k varition\n",
    "# func of temp_ans\n",
    "\n",
    "t=[[-1 for x in range(len(arr)+1)] for x in range(len(arr)+1)]\n",
    "def palindromic_partitioning(s,i,j):\n",
    "    if i>=j:\n",
    "        return 0\n",
    "    if ispalindrome(s,i,j):\n",
    "        return 0\n",
    "    #checking whether the value is already calculated or not\n",
    "    # if calculated then return the value:\n",
    "    \n",
    "    if t[i][j]!=-1:\n",
    "        return t[i][j]\n",
    "    \n",
    "    # else calculate the value\n",
    "    Min=float('inf')\n",
    "    for k in range(i,j):\n",
    "        temp_ans=1+palindromic_partitioning(s,i,k)+palindromic_partitioning(s,k+1,j)\n",
    "        if temp_ans<Min:\n",
    "            Min=temp_ans\n",
    "    # storing the value on table\n",
    "    t[i][j]=Min\n",
    "    return t[i][j]\n",
    "\n",
    "def ispalindrome(s,i,j):\n",
    "    if i==j:\n",
    "        return True\n",
    "    if i>j:\n",
    "        return False\n",
    "    while i<j:\n",
    "        if (s[i]!=s[j]):\n",
    "            return False\n",
    "        i+=1\n",
    "        j-=1\n",
    "  \n",
    "    return True"
   ]
  },
  {
   "cell_type": "code",
   "execution_count": 461,
   "metadata": {},
   "outputs": [
    {
     "data": {
      "text/plain": [
       "2"
      ]
     },
     "execution_count": 461,
     "metadata": {},
     "output_type": "execute_result"
    }
   ],
   "source": [
    "palindromic_partitioning('nitik',0,4)"
   ]
  },
  {
   "cell_type": "code",
   "execution_count": 462,
   "metadata": {},
   "outputs": [],
   "source": [
    "# palindromic partitioning----Recursive +table + optimized\n",
    "#create table\n",
    "# step-1 i=0, j=len(arr)-1\n",
    "# step-2 base condition\n",
    "# step-3 k varition\n",
    "# func of temp_ans\n",
    "\n",
    "t=[[-1 for x in range(len(arr)+1)] for x in range(len(arr)+1)]\n",
    "def palindromic_partitioning(s,i,j):\n",
    "    if i>=j:\n",
    "        return 0\n",
    "    if ispalindrome(s,i,j):\n",
    "        return 0\n",
    "    #checking whether the value is already calculated or not\n",
    "    # if calculated then return the value:\n",
    "    \n",
    "    if t[i][j]!=-1:\n",
    "        return t[i][j]\n",
    "    \n",
    "    # else calculate the value\n",
    "    Min=float('inf')\n",
    "    for k in range(i,j):\n",
    "        if t[i][k]!=-1:\n",
    "            left=t[i][k]\n",
    "            \n",
    "        else:\n",
    "            left=palindromic_partitioning(s,i,k)\n",
    "            t[i][k]=left\n",
    "            \n",
    "        if t[k+1][j]!=-1:\n",
    "            right=t[k+1][j]\n",
    "            \n",
    "        else:\n",
    "            right=palindromic_partitioning(s,k+1,j)\n",
    "            t[k+1][j]=right\n",
    "            \n",
    "            \n",
    "        temp_ans=1+left+right\n",
    "        if temp_ans<Min:\n",
    "            Min=temp_ans\n",
    "\n",
    "    # storing the value on table\n",
    "    t[i][j]=Min\n",
    "    return t[i][j]\n",
    "\n",
    "def ispalindrome(s,i,j):\n",
    "    if i==j:\n",
    "        return True\n",
    "    if i>j:\n",
    "        return False\n",
    "    while i<j:\n",
    "        if (s[i]!=s[j]):\n",
    "            return False\n",
    "        i+=1\n",
    "        j-=1\n",
    "  \n",
    "    return True"
   ]
  },
  {
   "cell_type": "code",
   "execution_count": 463,
   "metadata": {},
   "outputs": [
    {
     "data": {
      "text/plain": [
       "2"
      ]
     },
     "execution_count": 463,
     "metadata": {},
     "output_type": "execute_result"
    }
   ],
   "source": [
    "palindromic_partitioning('nitik',0,4)"
   ]
  },
  {
   "cell_type": "code",
   "execution_count": 113,
   "metadata": {},
   "outputs": [],
   "source": [
    "#Evaluate Expression to True // Boolean parenthesis Recursive\n",
    "# input--- string\n",
    "# no of ways to achieve True and put bracket and convert it to True....\n",
    "x=[]\n",
    "def evaluate_expression_to_true(s,i,j, isTrue):\n",
    "    global x\n",
    "    # base condition\n",
    "    if (i>j):\n",
    "        return False\n",
    "    if (i==j):\n",
    "        if isTrue==True:\n",
    "            return s[i]=='T'\n",
    "        else:\n",
    "            return s[i]=='F'\n",
    "    # k-loop_initialization\n",
    "    ans=0\n",
    "    for k in range(i+1,j-1,2):\n",
    "        left_true=evaluate_expression_to_true(s,i,k-1,True)\n",
    "        left_false=evaluate_expression_to_true(s,i,k-1,False)\n",
    "        right_true=evaluate_expression_to_true(s,k+1,j,True)\n",
    "        right_false=evaluate_expression_to_true(s,k+1,j,False)\n",
    "        if s[k]=='&':\n",
    "            if isTrue==True:\n",
    "                ans=ans+left_true*right_true\n",
    "            else:\n",
    "                ans=ans+left_false*right_false\n",
    "        elif s[k]=='|':\n",
    "            if isTrue==True:\n",
    "                ans=ans+(left_true*right_true+left_true*right_false+right_true*left_false)\n",
    "                \n",
    "            else:\n",
    "                ans=ans+(left_false*right_false)\n",
    "        elif s[k]=='^':\n",
    "            if isTrue==True:\n",
    "                ans=ans+(left_true*right_false+left_false*right_true)\n",
    "            else:\n",
    "                ans=ans+(left_true*right_true+left_false*right_false)\n",
    "                \n",
    "        x.append(ans)\n",
    "        \n",
    "                   \n",
    "    return ans\n",
    "\n"
   ]
  },
  {
   "cell_type": "code",
   "execution_count": 114,
   "metadata": {},
   "outputs": [
    {
     "data": {
      "text/plain": [
       "0"
      ]
     },
     "execution_count": 114,
     "metadata": {},
     "output_type": "execute_result"
    }
   ],
   "source": [
    "s='T|F&T^F'\n",
    "evaluate_expression_to_true(s,1,len(s)-1,True)"
   ]
  },
  {
   "cell_type": "code",
   "execution_count": null,
   "metadata": {},
   "outputs": [],
   "source": []
  },
  {
   "cell_type": "code",
   "execution_count": null,
   "metadata": {},
   "outputs": [],
   "source": []
  },
  {
   "cell_type": "code",
   "execution_count": 52,
   "metadata": {},
   "outputs": [],
   "source": [
    "def scrumbled_string(a,b):\n",
    "    if a==b:\n",
    "        return True\n",
    "    if len(a)<=1:\n",
    "        return False\n",
    "    n=len(a)\n",
    "    flag=False\n",
    "    for i in range(1,n-1):\n",
    "        cond1=(solve(a[:i],b[n-i:])==True and solve(a[i:],b[0:n-i])==True)\n",
    "        cond2=(solve(a[0:i],b[0:i])==True and solve(a[i:],b[i:])==True)\n",
    "        if cond1 or cond2:\n",
    "            flag=True\n",
    "            break\n",
    "    return flag"
   ]
  },
  {
   "cell_type": "code",
   "execution_count": 53,
   "metadata": {},
   "outputs": [
    {
     "data": {
      "text/plain": [
       "True"
      ]
     },
     "execution_count": 53,
     "metadata": {},
     "output_type": "execute_result"
    }
   ],
   "source": [
    "solve('great','regat')"
   ]
  },
  {
   "cell_type": "code",
   "execution_count": 54,
   "metadata": {},
   "outputs": [],
   "source": [
    "# scrumbled_string_with_memoization####\n",
    "Map={}\n",
    "def scrumbled_string_with_memoization(a,b):\n",
    "    if a==b:\n",
    "        return True\n",
    "    if len(a)<=1:\n",
    "        return False\n",
    "    if a+' '+b in Map:\n",
    "        return Map[a+' '+b]\n",
    "    \n",
    "    n=len(a)\n",
    "    flag=False\n",
    "    for i in range(1,n):\n",
    "        cond1= (solve(a[:i],b[n-i:])==True and solve(a[i:],b[0:n-i])==True)\n",
    "        cond2= (solve(a[0:i],b[0:i])==True and solve(a[i:],b[i:])==True)\n",
    "        if cond1 or cond2:\n",
    "            flag=True\n",
    "            break\n",
    "    Map[a+' '+b]=flag\n",
    "    return flag\n",
    "    \n"
   ]
  },
  {
   "cell_type": "code",
   "execution_count": 55,
   "metadata": {},
   "outputs": [
    {
     "data": {
      "text/plain": [
       "True"
      ]
     },
     "execution_count": 55,
     "metadata": {},
     "output_type": "execute_result"
    }
   ],
   "source": [
    "scrumbled_string_with_memoization('great','regat')"
   ]
  },
  {
   "cell_type": "code",
   "execution_count": 57,
   "metadata": {},
   "outputs": [],
   "source": [
    "# Egg_Dropping_Problem_Recursive\n",
    "#output===minimize number of attempt in worst case\n",
    "def egg_dropping_problem_recursive(egg,floor):\n",
    "    if floor==0 or floor==1:\n",
    "        return floor\n",
    "    if egg==1:\n",
    "        return floor\n",
    "    Min=float('inf')\n",
    "    for k in range(1,floor):\n",
    "        temp=1+max(egg_dropping_problem_recursive(egg-1,k-1) ,egg_dropping_problem_recursive(egg,floor-k))\n",
    "        Min=min(Min,temp)\n",
    "        \n",
    "    return Min\n",
    "    "
   ]
  },
  {
   "cell_type": "code",
   "execution_count": 58,
   "metadata": {},
   "outputs": [
    {
     "data": {
      "text/plain": [
       "3"
      ]
     },
     "execution_count": 58,
     "metadata": {},
     "output_type": "execute_result"
    }
   ],
   "source": [
    "egg_dropping_problem_recursive(3,5)"
   ]
  },
  {
   "cell_type": "code",
   "execution_count": 64,
   "metadata": {},
   "outputs": [],
   "source": [
    "# Egg dropping problem with memoization\n",
    "# output----> minimize number of attempt in worst case\n",
    "egg=3\n",
    "floor=5\n",
    "t=[[-1 for x in range(floor+1)] for x in range(egg+1)]\n",
    "def egg_dropping_problem_memoization(egg,floor):\n",
    "    if floor==1 or floor==0:\n",
    "        return floor\n",
    "    if egg==1:\n",
    "        return floor\n",
    "    if t[egg][floor]!=-1:\n",
    "        return t[egg][floor]\n",
    "    Min=float('inf')\n",
    "    for k in range(1,floor):\n",
    "        temp=1+max(egg_dropping_problem_memoization(egg-1,k-1),egg_dropping_problem_memoization(egg,floor-k))\n",
    "        Min=min(Min,temp)\n",
    "        t[egg][floor]=Min\n",
    "    return Min\n",
    "        \n",
    "    "
   ]
  },
  {
   "cell_type": "code",
   "execution_count": 65,
   "metadata": {},
   "outputs": [
    {
     "data": {
      "text/plain": [
       "3"
      ]
     },
     "execution_count": 65,
     "metadata": {},
     "output_type": "execute_result"
    }
   ],
   "source": [
    "egg_dropping_problem_memoization(egg,floor)"
   ]
  },
  {
   "cell_type": "code",
   "execution_count": 67,
   "metadata": {},
   "outputs": [],
   "source": [
    "# Egg_dropping_problem_with_optimized\n",
    "egg=3\n",
    "floor=5\n",
    "t=[[-1 for x in range(floor+1)] for x in range(egg+1)]\n",
    "def egg_dropping_problem_with_optimized(egg,floor):\n",
    "    if floor==0 or floor==1:\n",
    "        return floor\n",
    "    if egg==1:\n",
    "        return floor\n",
    "    if t[egg][floor]!=-1:\n",
    "        return t[egg][floor]\n",
    "    Min=float('inf')\n",
    "    for k in range(1,floor):\n",
    "        if t[egg-1][k-1]!=-1:\n",
    "            low=t[egg-1][k-1]\n",
    "        else:\n",
    "            low=egg_dropping_problem_with_optimized(egg-1,k-1)\n",
    "            t[egg-1][k-1]=low\n",
    "        if t[egg][floor-k]!=-1:\n",
    "            high=t[egg][floor-k]\n",
    "        else:\n",
    "            high=egg_dropping_problem_with_optimized(egg,floor-k)\n",
    "            t[egg][floor-k]=high\n",
    "        temp=1+max(low,high)\n",
    "        Min=min(Min,temp)\n",
    "        t[egg][floor]=Min\n",
    "        \n",
    "    return Min"
   ]
  },
  {
   "cell_type": "code",
   "execution_count": 115,
   "metadata": {},
   "outputs": [
    {
     "data": {
      "text/plain": [
       "3"
      ]
     },
     "execution_count": 115,
     "metadata": {},
     "output_type": "execute_result"
    }
   ],
   "source": [
    "egg_dropping_problem_with_optimized(3,5)"
   ]
  },
  {
   "cell_type": "code",
   "execution_count": 122,
   "metadata": {},
   "outputs": [],
   "source": [
    "t=[[0 for i in range(floor+1)]for i in range(egg+1)]\n",
    "def eggdroppingpuzzle(egg,floor):\n",
    "    #row initialization\n",
    "    for i in range(1,egg+1):\n",
    "        t[i][0]=0\n",
    "        t[i][1]=1\n",
    "        \n",
    "    #column initialization\n",
    "    for j in range(1,floor+1):\n",
    "        t[1][j]=j\n",
    "        \n",
    "    #other calculation\n",
    "    for i in range(2,egg+1):\n",
    "        for j in range(2,floor+1):\n",
    "            t[i][j]=float('inf')\n",
    "            for x in range(1,j+1):\n",
    "                res=1+max(t[i-1][x-1],t[i][j-x])\n",
    "                if res<t[i][j]:\n",
    "                    t[i][j]=res\n",
    "    print(t[egg][floor])"
   ]
  },
  {
   "cell_type": "code",
   "execution_count": 123,
   "metadata": {},
   "outputs": [
    {
     "name": "stdout",
     "output_type": "stream",
     "text": [
      "3\n"
     ]
    }
   ],
   "source": [
    "eggdroppingpuzzle(3,5)"
   ]
  },
  {
   "cell_type": "code",
   "execution_count": 124,
   "metadata": {},
   "outputs": [
    {
     "name": "stdout",
     "output_type": "stream",
     "text": [
      "5 3\n"
     ]
    },
    {
     "ename": "ValueError",
     "evalue": "invalid literal for int() with base 10: '5 3'",
     "output_type": "error",
     "traceback": [
      "\u001b[1;31m---------------------------------------------------------------------------\u001b[0m",
      "\u001b[1;31mValueError\u001b[0m                                Traceback (most recent call last)",
      "\u001b[1;32m<ipython-input-124-b517ea119218>\u001b[0m in \u001b[0;36m<module>\u001b[1;34m\u001b[0m\n\u001b[1;32m----> 1\u001b[1;33m \u001b[1;32mfor\u001b[0m \u001b[0mi\u001b[0m \u001b[1;32min\u001b[0m \u001b[0mrange\u001b[0m\u001b[1;33m(\u001b[0m\u001b[0mint\u001b[0m\u001b[1;33m(\u001b[0m\u001b[0minput\u001b[0m\u001b[1;33m(\u001b[0m\u001b[1;33m)\u001b[0m\u001b[1;33m)\u001b[0m\u001b[1;33m)\u001b[0m\u001b[1;33m:\u001b[0m\u001b[1;33m\u001b[0m\u001b[1;33m\u001b[0m\u001b[0m\n\u001b[0m\u001b[0;32m      2\u001b[0m     \u001b[0me\u001b[0m\u001b[1;33m,\u001b[0m\u001b[0mf\u001b[0m\u001b[1;33m=\u001b[0m\u001b[0mmap\u001b[0m\u001b[1;33m(\u001b[0m\u001b[0mint\u001b[0m\u001b[1;33m,\u001b[0m\u001b[0minput\u001b[0m\u001b[1;33m(\u001b[0m\u001b[1;33m)\u001b[0m\u001b[1;33m.\u001b[0m\u001b[0msplit\u001b[0m\u001b[1;33m(\u001b[0m\u001b[1;33m)\u001b[0m\u001b[1;33m)\u001b[0m\u001b[1;33m\u001b[0m\u001b[1;33m\u001b[0m\u001b[0m\n\u001b[0;32m      3\u001b[0m     \u001b[0mt\u001b[0m\u001b[1;33m=\u001b[0m\u001b[1;33m[\u001b[0m\u001b[1;33m[\u001b[0m\u001b[1;33m-\u001b[0m\u001b[1;36m1\u001b[0m \u001b[1;32mfor\u001b[0m \u001b[0mi\u001b[0m \u001b[1;32min\u001b[0m \u001b[0mrange\u001b[0m\u001b[1;33m(\u001b[0m\u001b[0mf\u001b[0m\u001b[1;33m+\u001b[0m\u001b[1;36m1\u001b[0m\u001b[1;33m)\u001b[0m\u001b[1;33m]\u001b[0m\u001b[1;32mfor\u001b[0m \u001b[0mi\u001b[0m \u001b[1;32min\u001b[0m \u001b[0mrange\u001b[0m\u001b[1;33m(\u001b[0m\u001b[0me\u001b[0m\u001b[1;33m+\u001b[0m\u001b[1;36m1\u001b[0m\u001b[1;33m)\u001b[0m\u001b[1;33m]\u001b[0m\u001b[1;33m\u001b[0m\u001b[1;33m\u001b[0m\u001b[0m\n\u001b[0;32m      4\u001b[0m \u001b[1;33m\u001b[0m\u001b[0m\n\u001b[0;32m      5\u001b[0m     \u001b[1;32mdef\u001b[0m \u001b[0meggdropping\u001b[0m\u001b[1;33m(\u001b[0m\u001b[0me\u001b[0m\u001b[1;33m,\u001b[0m\u001b[0mf\u001b[0m\u001b[1;33m)\u001b[0m\u001b[1;33m:\u001b[0m\u001b[1;33m\u001b[0m\u001b[1;33m\u001b[0m\u001b[0m\n",
      "\u001b[1;31mValueError\u001b[0m: invalid literal for int() with base 10: '5 3'"
     ]
    }
   ],
   "source": [
    "#procedure for geek for geeks\n",
    "\n",
    "for i in range(int(input())):\n",
    "    e,f=map(int,input().split())\n",
    "    t=[[-1 for i in range(f+1)]for i in range(e+1)]\n",
    "    \n",
    "    def eggdropping(e,f):\n",
    "        if f==0 or f==1:\n",
    "            return f\n",
    "        if e==1:\n",
    "            return f\n",
    "        if t[e][f]!=-1:\n",
    "            return t[e][f]\n",
    "            \n",
    "        Min=float('inf')\n",
    "        for k in range(1,f):\n",
    "            temp=1+max(eggdropping(e-1,k-1),eggdropping(e,f-k))\n",
    "            Min=min(Min,temp)\n",
    "            t[e][f]=Min\n",
    "        return Min\n",
    "    result=eggdropping(e,f)\n",
    "    print(result)"
   ]
  },
  {
   "cell_type": "markdown",
   "metadata": {},
   "source": [
    "# DP ON TREE"
   ]
  },
  {
   "cell_type": "code",
   "execution_count": 99,
   "metadata": {},
   "outputs": [],
   "source": [
    "#diameter of binary tree\n",
    "class Node:\n",
    "    def __init__(self,data):\n",
    "        self.left=None\n",
    "        self.right=None\n",
    "        self.data=data\n",
    "\n",
    "def diameterofbinarytree(root,res):\n",
    "    if root is None:\n",
    "        return 0\n",
    "    ldia=diameterofbinarytree(root.left,res)\n",
    "    rdia=diameterofbinarytree(root.right,res)\n",
    "    \n",
    "    temp=max(ldia,rdia)+1\n",
    "    ans=max(temp,ldia+rdia+1)\n",
    "    res[0]=max(res[0],ans)\n",
    "    return temp\n",
    "\n",
    "\n",
    "int_min=-float('inf')\n",
    "def maxdiameter(root):\n",
    "    res=[int_min]\n",
    "    diameterofbinarytree(root,res)\n",
    "    return res"
   ]
  },
  {
   "cell_type": "code",
   "execution_count": 100,
   "metadata": {},
   "outputs": [
    {
     "name": "stdout",
     "output_type": "stream",
     "text": [
      "Diameter is [4]\n"
     ]
    }
   ],
   "source": [
    "\n",
    "root = Node(1)  \n",
    "root.left = Node(2)  \n",
    "root.right = Node(3)  \n",
    "root.left.left = Node(4)  \n",
    "root.left.right = Node(5) \n",
    "\n",
    "    \n",
    "  \n",
    "print(\"Diameter is\", maxdiameter(root)) "
   ]
  },
  {
   "cell_type": "code",
   "execution_count": 89,
   "metadata": {},
   "outputs": [],
   "source": [
    "#sum between two leaves of a binary tree.___\n",
    "\n",
    "\n",
    "int_min=-float('inf')\n",
    "class Node:\n",
    "    def __init__(self,data):\n",
    "        self.data=data\n",
    "        self.left=None\n",
    "        self.right=None\n",
    "\n",
    "def maxPathSum(root,res):\n",
    "    if root is None:\n",
    "        return 0\n",
    "    \n",
    "    ls=maxPathSum(root.left,res)\n",
    "    rs=maxPathSum(root.right,res)\n",
    "    \n",
    "    temp= max(ls,rs)+root.data\n",
    "    if root.left==None and root.right==None:\n",
    "        temp=max(temp,root.data)\n",
    "        \n",
    "    ans=max(temp,ls+rs+root.data)\n",
    "    res[0]=max(res[0],ans)\n",
    "    return temp\n",
    "def maxpathsum(root):\n",
    "    res=[int_min]\n",
    "    maxPathSum(root,res)\n",
    "    return res"
   ]
  },
  {
   "cell_type": "code",
   "execution_count": 90,
   "metadata": {},
   "outputs": [],
   "source": [
    "root = Node(-15) \n",
    "root.left = Node(5) \n",
    "root.right = Node(6) \n",
    "root.left.left = Node(-8) \n",
    "root.left.right = Node(1) \n",
    "root.left.left.left = Node(2) \n",
    "root.left.left.right = Node(6) \n",
    "root.right.left = Node(3) \n",
    "root.right.right = Node(9) \n",
    "root.right.right.right= Node(0) \n",
    "root.right.right.right.left = Node(4) \n",
    "root.right.right.right.right = Node(-1) \n",
    "root.right.right.right.right.left = Node(10) "
   ]
  },
  {
   "cell_type": "code",
   "execution_count": 91,
   "metadata": {},
   "outputs": [
    {
     "name": "stdout",
     "output_type": "stream",
     "text": [
      "Max pathSum of the given binary tree is [27]\n"
     ]
    }
   ],
   "source": [
    "print (\"Max pathSum of the given binary tree is\", maxpathsum(root) )"
   ]
  },
  {
   "cell_type": "code",
   "execution_count": 102,
   "metadata": {},
   "outputs": [],
   "source": [
    "#maximum path sum between any two nodes\n",
    "int_min=-float('inf')\n",
    "class Node:\n",
    "    def __init__ (self,data):\n",
    "        self.data=data\n",
    "        self.right=None\n",
    "        self.left=None\n",
    "        \n",
    "def pathsum(root,res):\n",
    "    if root is None:\n",
    "        return 0\n",
    "    ls=pathsum(root.left,res)\n",
    "    rs=pathsum(root.right,res)\n",
    "    \n",
    "    temp=max(max(ls,rs)+root.data,root.data)\n",
    "    ans=max(temp,ls+rs+root.data)\n",
    "    \n",
    "    res[0]=max(res[0],ans)\n",
    "    return temp\n",
    "def maxPathsum(root):\n",
    "    res=[int_min]\n",
    "    pathsum(root,res)\n",
    "    return res[0]"
   ]
  },
  {
   "cell_type": "code",
   "execution_count": 105,
   "metadata": {},
   "outputs": [],
   "source": [
    "root = Node(10) \n",
    "root.left = Node(2) \n",
    "root.right = Node(10) \n",
    "root.left.left = Node(20) \n",
    "root.left.right = Node(1) \n",
    "root.right.right=Node(-25)\n",
    "root.right.right.left=Node(3)\n",
    "root.right.right.right=Node(4)"
   ]
  },
  {
   "cell_type": "code",
   "execution_count": 107,
   "metadata": {},
   "outputs": [
    {
     "name": "stdout",
     "output_type": "stream",
     "text": [
      "Max pathSum of the given binary tree is 42\n"
     ]
    }
   ],
   "source": [
    "print (\"Max pathSum of the given binary tree is\", maxPathsum(root) )"
   ]
  },
  {
   "cell_type": "markdown",
   "metadata": {},
   "source": [
    "# mobile number problem"
   ]
  },
  {
   "cell_type": "code",
   "execution_count": 13,
   "metadata": {},
   "outputs": [],
   "source": [
    "def keypad_problem(n):\n",
    "# I have considered A as '1', B as '2', C as '3', D as '4', E as '5', F as '6', G as '7', H as '8', I as  '9' and J as '0'.\n",
    "# I used dynamic programming approach to solve the following problems\n",
    "#creating a 2d array to store the number of possible keys.\n",
    "# Here each cell is responding to the number of possible keys ending at particular digit.\n",
    "# Eg. like possible keys ending at 'A' may have previous possible position at {'A','B','D'} ie. {1,2,4}\n",
    "\n",
    "    t=[[0 for x in range(10)] for x in range(n+1)]\n",
    "    #previous possible keys are for following keypad numbers\n",
    "    possible_keys=[]\n",
    "    possible_keys.append([0,8]) # for 'J'\n",
    "    possible_keys.append([1,2,4]) # for 'A'\n",
    "    possible_keys.append([1,2,3,5]) # for 'B'\n",
    "    possible_keys.append([2,3,6]) # for 'C'\n",
    "    possible_keys.append([1,4,5,7]) # for 'D'\n",
    "    possible_keys.append([2,4,5,6,8]) # for 'E'\n",
    "    possible_keys.append([3,5,6,9]) # for 'F'\n",
    "    possible_keys.append([4,8,7]) # for 'G'\n",
    "    possible_keys.append([5,7,8,9,0]) # for 'H'\n",
    "    possible_keys.append([6,8,9]) # for 'I'\n",
    "    \n",
    "    for i in range(1,n+1):\n",
    "        for j in range(10):\n",
    "            if i==1:\n",
    "                t[i][j]=1 # handling all cases when key pressed once.(length=1)\n",
    "            else:\n",
    "                # ith press for jth key ie i-1 th press should be from jth posssible keys\n",
    "                #keys ending at 'A' may have previous possible position at {'A','B','D'} ie. {1,2,4}\n",
    "                for previous_keys in possible_keys[j]:\n",
    "                    t[i][j]+=t[i-1][previous_keys]\n",
    "                    \n",
    "    count=0\n",
    "    for j in range(10):\n",
    "        count+=t[n][j]\n",
    "    return count\n",
    "\n",
    "                "
   ]
  },
  {
   "cell_type": "code",
   "execution_count": 14,
   "metadata": {},
   "outputs": [
    {
     "data": {
      "text/plain": [
       "138"
      ]
     },
     "execution_count": 14,
     "metadata": {},
     "output_type": "execute_result"
    }
   ],
   "source": [
    "keypad_problem(3)"
   ]
  },
  {
   "cell_type": "code",
   "execution_count": null,
   "metadata": {},
   "outputs": [],
   "source": []
  }
 ],
 "metadata": {
  "kernelspec": {
   "display_name": "Python 3",
   "language": "python",
   "name": "python3"
  },
  "language_info": {
   "codemirror_mode": {
    "name": "ipython",
    "version": 3
   },
   "file_extension": ".py",
   "mimetype": "text/x-python",
   "name": "python",
   "nbconvert_exporter": "python",
   "pygments_lexer": "ipython3",
   "version": "3.7.6"
  }
 },
 "nbformat": 4,
 "nbformat_minor": 4
}
